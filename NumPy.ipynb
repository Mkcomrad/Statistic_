{
 "cells": [
  {
   "cell_type": "code",
   "execution_count": 1,
   "id": "26a9ab30",
   "metadata": {},
   "outputs": [
    {
     "name": "stdout",
     "output_type": "stream",
     "text": [
      "[1 3 4 5]\n"
     ]
    }
   ],
   "source": [
    "import numpy as np\n",
    "arr=np.array([1,3,4,5])\n",
    "print(arr)"
   ]
  },
  {
   "cell_type": "markdown",
   "id": "4c684142",
   "metadata": {},
   "source": [
    "# Zeros Array"
   ]
  },
  {
   "cell_type": "code",
   "execution_count": 15,
   "id": "9904bb8c",
   "metadata": {},
   "outputs": [
    {
     "name": "stdout",
     "output_type": "stream",
     "text": [
      "[[[0. 0. 0. 0.]\n",
      "  [0. 0. 0. 0.]\n",
      "  [0. 0. 0. 0.]]\n",
      "\n",
      " [[0. 0. 0. 0.]\n",
      "  [0. 0. 0. 0.]\n",
      "  [0. 0. 0. 0.]]\n",
      "\n",
      " [[0. 0. 0. 0.]\n",
      "  [0. 0. 0. 0.]\n",
      "  [0. 0. 0. 0.]]]\n"
     ]
    }
   ],
   "source": [
    "z=np.zeros((3,3,4))\n",
    "print(z)"
   ]
  },
  {
   "cell_type": "code",
   "execution_count": 18,
   "id": "b26de39a",
   "metadata": {},
   "outputs": [
    {
     "name": "stdout",
     "output_type": "stream",
     "text": [
      "[[0.80323988 0.60648462 0.0483663 ]\n",
      " [0.43345652 0.34055347 0.48556131]]\n"
     ]
    }
   ],
   "source": [
    "ran=np.random.random((2,3))\n",
    "print(ran)"
   ]
  },
  {
   "cell_type": "markdown",
   "id": "a4e85c9e",
   "metadata": {},
   "source": [
    "# Same Number Full Function"
   ]
  },
  {
   "cell_type": "code",
   "execution_count": 23,
   "id": "10d7c804",
   "metadata": {},
   "outputs": [
    {
     "name": "stdout",
     "output_type": "stream",
     "text": [
      "[[3 3 3]\n",
      " [3 3 3]]\n"
     ]
    }
   ],
   "source": [
    "fl=np.full((2,3),3)\n",
    "print(fl)"
   ]
  },
  {
   "cell_type": "markdown",
   "id": "d175b6a8",
   "metadata": {},
   "source": [
    "# Arranging the value"
   ]
  },
  {
   "cell_type": "code",
   "execution_count": 27,
   "id": "3ccc2bca",
   "metadata": {},
   "outputs": [
    {
     "name": "stdout",
     "output_type": "stream",
     "text": [
      "[ 3  6  9 12 15 18]\n"
     ]
    }
   ],
   "source": [
    "a=np.arange(3,20,3)\n",
    "print(a)"
   ]
  },
  {
   "cell_type": "markdown",
   "id": "c5ea091c",
   "metadata": {},
   "source": [
    "# Linespace Intervel between"
   ]
  },
  {
   "cell_type": "code",
   "execution_count": 32,
   "id": "f7dbdc8d",
   "metadata": {},
   "outputs": [
    {
     "name": "stdout",
     "output_type": "stream",
     "text": [
      "[1. 2. 3. 4. 5.]\n"
     ]
    }
   ],
   "source": [
    "l=np.linspace(1,5,5)\n",
    "print(l)"
   ]
  },
  {
   "cell_type": "code",
   "execution_count": 37,
   "id": "7fc3b211",
   "metadata": {},
   "outputs": [
    {
     "name": "stdout",
     "output_type": "stream",
     "text": [
      "(2, 3)\n",
      "6\n",
      "2\n"
     ]
    }
   ],
   "source": [
    "a=np.array([[2,3,4],[3,5,6]])\n",
    "print(a.shape)\n",
    "print(a.size)\n",
    "print(a.ndim)"
   ]
  },
  {
   "cell_type": "code",
   "execution_count": null,
   "id": "defd4a05",
   "metadata": {},
   "outputs": [],
   "source": []
  },
  {
   "cell_type": "markdown",
   "id": "30154795",
   "metadata": {},
   "source": [
    "# Arange and res"
   ]
  },
  {
   "cell_type": "code",
   "execution_count": 51,
   "id": "10e6fd49",
   "metadata": {},
   "outputs": [
    {
     "name": "stdout",
     "output_type": "stream",
     "text": [
      "24\n",
      "float64\n",
      "[[[ 0.  1.]\n",
      "  [ 2.  3.]\n",
      "  [ 4.  5.]\n",
      "  [ 6.  7.]]\n",
      "\n",
      " [[ 8.  9.]\n",
      "  [10. 11.]\n",
      "  [12. 13.]\n",
      "  [14. 15.]]\n",
      "\n",
      " [[16. 17.]\n",
      "  [18. 19.]\n",
      "  [20. 21.]\n",
      "  [22. 23.]]]\n"
     ]
    }
   ],
   "source": [
    "a=np.arange(24,dtype=float)\n",
    "print(a.size)\n",
    "print(a.dtype)\n",
    "b=a.reshape(3,4,2)\n",
    "print(b)\n"
   ]
  },
  {
   "cell_type": "code",
   "execution_count": 52,
   "id": "1ca6a4c3",
   "metadata": {},
   "outputs": [
    {
     "name": "stdout",
     "output_type": "stream",
     "text": [
      "50\n"
     ]
    }
   ],
   "source": [
    "a=np.sum([20,30])\n",
    "print(a)"
   ]
  },
  {
   "cell_type": "code",
   "execution_count": 61,
   "id": "b0aaac9d",
   "metadata": {},
   "outputs": [
    {
     "name": "stdout",
     "output_type": "stream",
     "text": [
      "[2 5]\n"
     ]
    }
   ],
   "source": [
    "s=np.sum([[0,2],[2,3]],axis=0)\n",
    "print(s)"
   ]
  },
  {
   "cell_type": "code",
   "execution_count": 71,
   "id": "ffa6ea1c",
   "metadata": {},
   "outputs": [
    {
     "name": "stdout",
     "output_type": "stream",
     "text": [
      "[False False False]\n",
      "True\n"
     ]
    }
   ],
   "source": [
    "a=[1,2,3]\n",
    "c=[3,4,5]\n",
    "b=[1,2,3]\n",
    "s=np.equal(a,c)\n",
    "print(s)\n",
    "s1=np.array_equal(a,b)\n",
    "print(s1)"
   ]
  },
  {
   "cell_type": "code",
   "execution_count": 81,
   "id": "ab3491f6",
   "metadata": {},
   "outputs": [
    {
     "name": "stdout",
     "output_type": "stream",
     "text": [
      "[[1. 1. 1. 1.]\n",
      " [1. 1. 1. 1.]\n",
      " [1. 1. 1. 1.]]\n"
     ]
    }
   ],
   "source": [
    "on=np.ones([3,4])\n",
    "print(on)"
   ]
  },
  {
   "cell_type": "code",
   "execution_count": 97,
   "id": "31cc5353",
   "metadata": {},
   "outputs": [
    {
     "name": "stdout",
     "output_type": "stream",
     "text": [
      "befor reshap\n",
      " [[[2 3]\n",
      "  [2 4]\n",
      "  [3 6]]]\n",
      "6\n",
      "(1, 3, 2)\n",
      "3\n",
      "[[2 3 2]\n",
      " [4 3 6]]\n"
     ]
    }
   ],
   "source": [
    "a=np.array([[[2,3],[2,4],[3,6]]])\n",
    "print(\"befor reshap\\n\",a)\n",
    "print(a.size)\n",
    "print(a.shape)\n",
    "print(a.ndim)\n",
    "print(a.reshape(2,3))"
   ]
  },
  {
   "cell_type": "markdown",
   "id": "57cad41e",
   "metadata": {},
   "source": [
    "# Digonal method"
   ]
  },
  {
   "cell_type": "code",
   "execution_count": 102,
   "id": "abc5bfbf",
   "metadata": {},
   "outputs": [
    {
     "name": "stdout",
     "output_type": "stream",
     "text": [
      "[[1. 0. 0. 0. 0.]\n",
      " [0. 1. 0. 0. 0.]\n",
      " [0. 0. 1. 0. 0.]\n",
      " [0. 0. 0. 1. 0.]\n",
      " [0. 0. 0. 0. 1.]]\n"
     ]
    }
   ],
   "source": [
    "d=np.eye(5)\n",
    "print(d)"
   ]
  },
  {
   "cell_type": "code",
   "execution_count": 106,
   "id": "c61641e1",
   "metadata": {},
   "outputs": [
    {
     "name": "stdout",
     "output_type": "stream",
     "text": [
      "[[2 0 0 0]\n",
      " [0 3 0 0]\n",
      " [0 0 4 0]\n",
      " [0 0 0 5]]\n"
     ]
    }
   ],
   "source": [
    "l=[2,3,4,5]\n",
    "d1=np.diag(l)\n",
    "print(d1)"
   ]
  },
  {
   "cell_type": "markdown",
   "id": "91b0e52c",
   "metadata": {},
   "source": [
    "# indexing and slicing"
   ]
  },
  {
   "cell_type": "code",
   "execution_count": 116,
   "id": "035f4c86",
   "metadata": {},
   "outputs": [
    {
     "name": "stdout",
     "output_type": "stream",
     "text": [
      "2\n",
      "6\n",
      "[2 6]\n"
     ]
    }
   ],
   "source": [
    "arr=np.array([2,3,4,5,6])\n",
    "print(arr[0])\n",
    "print(arr[-1])\n",
    "print(arr[[0,-1]])"
   ]
  },
  {
   "cell_type": "markdown",
   "id": "31ec29f0",
   "metadata": {},
   "source": [
    "# multy array"
   ]
  },
  {
   "cell_type": "code",
   "execution_count": 132,
   "id": "61a7e5ac",
   "metadata": {},
   "outputs": [
    {
     "name": "stdout",
     "output_type": "stream",
     "text": [
      "[[[ 2  3  4]\n",
      "  [ 3  5  7]\n",
      "  [ 5 79  8]]]\n",
      "[2 3 4]\n",
      "[3 5 7]\n",
      "[ 5 79  8]\n",
      "[]\n",
      "3\n"
     ]
    }
   ],
   "source": [
    "arr2=np.array([[[2,3,4],[3,5,7],[5,79,8]]])\n",
    "print(arr2)\n",
    "print(arr2[0,0])\n",
    "print(arr2[0,1])\n",
    "print(arr2[0,2])\n",
    "print(arr2[:-1])\n",
    "print(arr2.ndim)"
   ]
  },
  {
   "cell_type": "code",
   "execution_count": null,
   "id": "b41e04f8",
   "metadata": {},
   "outputs": [],
   "source": []
  }
 ],
 "metadata": {
  "kernelspec": {
   "display_name": "Python 3 (ipykernel)",
   "language": "python",
   "name": "python3"
  },
  "language_info": {
   "codemirror_mode": {
    "name": "ipython",
    "version": 3
   },
   "file_extension": ".py",
   "mimetype": "text/x-python",
   "name": "python",
   "nbconvert_exporter": "python",
   "pygments_lexer": "ipython3",
   "version": "3.10.9"
  }
 },
 "nbformat": 4,
 "nbformat_minor": 5
}
